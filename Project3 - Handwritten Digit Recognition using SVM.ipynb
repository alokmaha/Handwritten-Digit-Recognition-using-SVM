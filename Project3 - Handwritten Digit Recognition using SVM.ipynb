{
 "cells": [
  {
   "cell_type": "markdown",
   "id": "f62ccf8b",
   "metadata": {},
   "source": [
    "# Loading Libraries"
   ]
  },
  {
   "cell_type": "code",
   "execution_count": 1,
   "id": "d0686991",
   "metadata": {},
   "outputs": [],
   "source": [
    "import pandas as pd"
   ]
  },
  {
   "cell_type": "code",
   "execution_count": 2,
   "id": "fc7d3878",
   "metadata": {},
   "outputs": [],
   "source": [
    "import numpy as np"
   ]
  },
  {
   "cell_type": "markdown",
   "id": "0e80d5f1",
   "metadata": {},
   "source": [
    "# Loading Dataset"
   ]
  },
  {
   "cell_type": "code",
   "execution_count": 3,
   "id": "69fa3d53",
   "metadata": {},
   "outputs": [],
   "source": [
    "from sklearn.datasets import load_digits"
   ]
  },
  {
   "cell_type": "code",
   "execution_count": 4,
   "id": "62a3fc70",
   "metadata": {},
   "outputs": [],
   "source": [
    "dataset = load_digits()"
   ]
  },
  {
   "cell_type": "markdown",
   "id": "6e27a4e1",
   "metadata": {},
   "source": [
    "# Summarise Dataset"
   ]
  },
  {
   "cell_type": "code",
   "execution_count": 5,
   "id": "00704520",
   "metadata": {},
   "outputs": [
    {
     "data": {
      "text/plain": [
       "\".. _digits_dataset:\\n\\nOptical recognition of handwritten digits dataset\\n--------------------------------------------------\\n\\n**Data Set Characteristics:**\\n\\n    :Number of Instances: 1797\\n    :Number of Attributes: 64\\n    :Attribute Information: 8x8 image of integer pixels in the range 0..16.\\n    :Missing Attribute Values: None\\n    :Creator: E. Alpaydin (alpaydin '@' boun.edu.tr)\\n    :Date: July; 1998\\n\\nThis is a copy of the test set of the UCI ML hand-written digits datasets\\nhttps://archive.ics.uci.edu/ml/datasets/Optical+Recognition+of+Handwritten+Digits\\n\\nThe data set contains images of hand-written digits: 10 classes where\\neach class refers to a digit.\\n\\nPreprocessing programs made available by NIST were used to extract\\nnormalized bitmaps of handwritten digits from a preprinted form. From a\\ntotal of 43 people, 30 contributed to the training set and different 13\\nto the test set. 32x32 bitmaps are divided into nonoverlapping blocks of\\n4x4 and the number of on pixels are counted in each block. This generates\\nan input matrix of 8x8 where each element is an integer in the range\\n0..16. This reduces dimensionality and gives invariance to small\\ndistortions.\\n\\nFor info on NIST preprocessing routines, see M. D. Garris, J. L. Blue, G.\\nT. Candela, D. L. Dimmick, J. Geist, P. J. Grother, S. A. Janet, and C.\\nL. Wilson, NIST Form-Based Handprint Recognition System, NISTIR 5469,\\n1994.\\n\\n.. topic:: References\\n\\n  - C. Kaynak (1995) Methods of Combining Multiple Classifiers and Their\\n    Applications to Handwritten Digit Recognition, MSc Thesis, Institute of\\n    Graduate Studies in Science and Engineering, Bogazici University.\\n  - E. Alpaydin, C. Kaynak (1998) Cascading Classifiers, Kybernetika.\\n  - Ken Tang and Ponnuthurai N. Suganthan and Xi Yao and A. Kai Qin.\\n    Linear dimensionalityreduction using relevance weighted LDA. School of\\n    Electrical and Electronic Engineering Nanyang Technological University.\\n    2005.\\n  - Claudio Gentile. A New Approximate Maximal Margin Classification\\n    Algorithm. NIPS. 2000.\\n\""
      ]
     },
     "execution_count": 5,
     "metadata": {},
     "output_type": "execute_result"
    }
   ],
   "source": [
    "dataset.DESCR"
   ]
  },
  {
   "cell_type": "code",
   "execution_count": 6,
   "id": "6cd9134f",
   "metadata": {},
   "outputs": [
    {
     "data": {
      "text/plain": [
       "['DESCR', 'data', 'feature_names', 'frame', 'images', 'target', 'target_names']"
      ]
     },
     "execution_count": 6,
     "metadata": {},
     "output_type": "execute_result"
    }
   ],
   "source": [
    "dir(dataset)"
   ]
  },
  {
   "cell_type": "code",
   "execution_count": 7,
   "id": "40f8c97f",
   "metadata": {},
   "outputs": [
    {
     "data": {
      "text/plain": [
       "array([[ 0.,  0.,  5., ...,  0.,  0.,  0.],\n",
       "       [ 0.,  0.,  0., ..., 10.,  0.,  0.],\n",
       "       [ 0.,  0.,  0., ..., 16.,  9.,  0.],\n",
       "       ...,\n",
       "       [ 0.,  0.,  1., ...,  6.,  0.,  0.],\n",
       "       [ 0.,  0.,  2., ..., 12.,  0.,  0.],\n",
       "       [ 0.,  0., 10., ..., 12.,  1.,  0.]])"
      ]
     },
     "execution_count": 7,
     "metadata": {},
     "output_type": "execute_result"
    }
   ],
   "source": [
    "dataset.data"
   ]
  },
  {
   "cell_type": "code",
   "execution_count": 8,
   "id": "97acf9f5",
   "metadata": {},
   "outputs": [
    {
     "data": {
      "text/plain": [
       "array([0, 1, 2, ..., 8, 9, 8])"
      ]
     },
     "execution_count": 8,
     "metadata": {},
     "output_type": "execute_result"
    }
   ],
   "source": [
    "dataset.target"
   ]
  },
  {
   "cell_type": "code",
   "execution_count": 9,
   "id": "ca5d4381",
   "metadata": {},
   "outputs": [
    {
     "data": {
      "text/plain": [
       "(1797, 64)"
      ]
     },
     "execution_count": 9,
     "metadata": {},
     "output_type": "execute_result"
    }
   ],
   "source": [
    "dataset.data.shape"
   ]
  },
  {
   "cell_type": "code",
   "execution_count": 10,
   "id": "e8c23b16",
   "metadata": {},
   "outputs": [
    {
     "data": {
      "text/plain": [
       "(1797,)"
      ]
     },
     "execution_count": 10,
     "metadata": {},
     "output_type": "execute_result"
    }
   ],
   "source": [
    "dataset.target.shape"
   ]
  },
  {
   "cell_type": "code",
   "execution_count": 11,
   "id": "db3042db",
   "metadata": {},
   "outputs": [
    {
     "data": {
      "text/plain": [
       "(1797, 8, 8)"
      ]
     },
     "execution_count": 11,
     "metadata": {},
     "output_type": "execute_result"
    }
   ],
   "source": [
    "dataset.images.shape"
   ]
  },
  {
   "cell_type": "code",
   "execution_count": 12,
   "id": "ba4774e0",
   "metadata": {},
   "outputs": [
    {
     "data": {
      "text/plain": [
       "1797"
      ]
     },
     "execution_count": 12,
     "metadata": {},
     "output_type": "execute_result"
    }
   ],
   "source": [
    "dataimagelength = len(dataset.images)\n",
    "dataimagelength"
   ]
  },
  {
   "cell_type": "markdown",
   "id": "9058e049",
   "metadata": {},
   "source": [
    "# Visualize the Dataset"
   ]
  },
  {
   "cell_type": "code",
   "execution_count": 13,
   "id": "be390062",
   "metadata": {},
   "outputs": [],
   "source": [
    "import matplotlib.pyplot as plt"
   ]
  },
  {
   "cell_type": "code",
   "execution_count": 14,
   "id": "2a36b42f",
   "metadata": {},
   "outputs": [
    {
     "data": {
      "text/plain": [
       "<Figure size 432x288 with 0 Axes>"
      ]
     },
     "metadata": {},
     "output_type": "display_data"
    },
    {
     "data": {
      "image/png": "[encoded data removed]",
      "text/plain": [
       "<Figure size 288x288 with 1 Axes>"
      ]
     },
     "metadata": {
      "needs_background": "light"
     },
     "output_type": "display_data"
    }
   ],
   "source": [
    "n = 157\n",
    "\n",
    "plt.gray()\n",
    "plt.matshow(dataset.images[n])\n",
    "plt.show()"
   ]
  },
  {
   "cell_type": "code",
   "execution_count": 15,
   "id": "45692203",
   "metadata": {},
   "outputs": [
    {
     "data": {
      "text/plain": [
       "array([[ 0.,  0., 10., 16., 14.,  1.,  0.,  0.],\n",
       "       [ 0.,  0., 14., 16., 16.,  7.,  0.,  0.],\n",
       "       [ 0.,  0.,  1.,  5., 16.,  7.,  0.,  0.],\n",
       "       [ 0.,  0.,  2., 10., 16., 11.,  6.,  0.],\n",
       "       [ 0.,  7., 16., 16., 15., 12.,  7.,  0.],\n",
       "       [ 0., 11., 10., 15., 10.,  0.,  0.,  0.],\n",
       "       [ 0.,  0.,  6., 16.,  2.,  0.,  0.,  0.],\n",
       "       [ 0.,  0., 13.,  9.,  0.,  0.,  0.,  0.]])"
      ]
     },
     "execution_count": 15,
     "metadata": {},
     "output_type": "execute_result"
    }
   ],
   "source": [
    "dataset.images[157]"
   ]
  },
  {
   "cell_type": "markdown",
   "id": "2bbf8dc5",
   "metadata": {},
   "source": [
    "# Segregate Dataset into 2 Parts - Independent and Dependent Variable"
   ]
  },
  {
   "cell_type": "code",
   "execution_count": 16,
   "id": "aa9db98b",
   "metadata": {},
   "outputs": [],
   "source": [
    "x = dataset.images.reshape(dataimagelength, -1)"
   ]
  },
  {
   "cell_type": "code",
   "execution_count": 17,
   "id": "159b6125",
   "metadata": {},
   "outputs": [],
   "source": [
    "y = dataset.target"
   ]
  },
  {
   "cell_type": "code",
   "execution_count": 18,
   "id": "ffcc4966",
   "metadata": {},
   "outputs": [
    {
     "data": {
      "text/plain": [
       "array([[ 0.,  0.,  5., ...,  0.,  0.,  0.],\n",
       "       [ 0.,  0.,  0., ..., 10.,  0.,  0.],\n",
       "       [ 0.,  0.,  0., ..., 16.,  9.,  0.],\n",
       "       ...,\n",
       "       [ 0.,  0.,  1., ...,  6.,  0.,  0.],\n",
       "       [ 0.,  0.,  2., ..., 12.,  0.,  0.],\n",
       "       [ 0.,  0., 10., ..., 12.,  1.,  0.]])"
      ]
     },
     "execution_count": 18,
     "metadata": {},
     "output_type": "execute_result"
    }
   ],
   "source": [
    "x"
   ]
  },
  {
   "cell_type": "code",
   "execution_count": 19,
   "id": "6bb10e3f",
   "metadata": {},
   "outputs": [
    {
     "data": {
      "text/plain": [
       "array([0, 1, 2, ..., 8, 9, 8])"
      ]
     },
     "execution_count": 19,
     "metadata": {},
     "output_type": "execute_result"
    }
   ],
   "source": [
    "y"
   ]
  },
  {
   "cell_type": "markdown",
   "id": "aa3993ed",
   "metadata": {},
   "source": [
    "# Splitting Dataset into Training and Testing"
   ]
  },
  {
   "cell_type": "code",
   "execution_count": 20,
   "id": "78798647",
   "metadata": {},
   "outputs": [],
   "source": [
    "from sklearn.model_selection import train_test_split"
   ]
  },
  {
   "cell_type": "code",
   "execution_count": 21,
   "id": "39564731",
   "metadata": {},
   "outputs": [],
   "source": [
    "x_train, x_test, y_train, y_test = train_test_split(x, y , test_size=0.25, random_state=0, shuffle=True)"
   ]
  },
  {
   "cell_type": "code",
   "execution_count": 22,
   "id": "4c4cca6e",
   "metadata": {},
   "outputs": [
    {
     "name": "stdout",
     "output_type": "stream",
     "text": [
      "Count of x_train : 1347\t\tCount of y_train :1347\n",
      "Count of x_test  : 450 \t\tCount of y_test  : 450\n"
     ]
    }
   ],
   "source": [
    "print(f\"Count of x_train : {len(x_train)}\\t\\tCount of y_train :{len(y_train)}\")\n",
    "print(f\"Count of x_test  : {len(x_test)} \\t\\tCount of y_test  : {len(y_test)}\")"
   ]
  },
  {
   "cell_type": "code",
   "execution_count": 23,
   "id": "0c9714d5",
   "metadata": {},
   "outputs": [
    {
     "name": "stdout",
     "output_type": "stream",
     "text": [
      "(1347, 64) (1347,)\n"
     ]
    }
   ],
   "source": [
    "print(x_train.shape, y_train.shape)"
   ]
  },
  {
   "cell_type": "markdown",
   "id": "122752ef",
   "metadata": {},
   "source": [
    "# Training "
   ]
  },
  {
   "cell_type": "code",
   "execution_count": 24,
   "id": "8752f821",
   "metadata": {},
   "outputs": [],
   "source": [
    "from sklearn.svm import SVC"
   ]
  },
  {
   "cell_type": "code",
   "execution_count": 25,
   "id": "7adeb9dc",
   "metadata": {},
   "outputs": [],
   "source": [
    "model = SVC(kernel=\"linear\")"
   ]
  },
  {
   "cell_type": "code",
   "execution_count": 26,
   "id": "d9ea6a49",
   "metadata": {},
   "outputs": [
    {
     "data": {
      "text/plain": [
       "SVC(kernel='linear')"
      ]
     },
     "execution_count": 26,
     "metadata": {},
     "output_type": "execute_result"
    }
   ],
   "source": [
    "model.fit(x_train, y_train)"
   ]
  },
  {
   "cell_type": "markdown",
   "id": "e9953495",
   "metadata": {},
   "source": [
    "# Predicting What the digit is from Test data"
   ]
  },
  {
   "cell_type": "code",
   "execution_count": 27,
   "id": "5fba5cfc",
   "metadata": {},
   "outputs": [
    {
     "name": "stdout",
     "output_type": "stream",
     "text": [
      "[7]\n"
     ]
    },
    {
     "data": {
      "image/png": "[encoded data removed]",
      "text/plain": [
       "<Figure size 432x288 with 1 Axes>"
      ]
     },
     "metadata": {
      "needs_background": "light"
     },
     "output_type": "display_data"
    }
   ],
   "source": [
    "n = 7\n",
    "\n",
    "result = model.predict(dataset.images[n].reshape ((1, -1)))\n",
    "plt.imshow(dataset.images[n], cmap=plt.cm.gray_r, interpolation='nearest')\n",
    "print(result)\n",
    "# print(\"\\n\")\n",
    "# plt.axis('off')\n",
    "plt.title('%i' %result)\n",
    "plt.show()"
   ]
  },
  {
   "cell_type": "markdown",
   "id": "4804a02c",
   "metadata": {},
   "source": [
    "# Predicting for Test Data"
   ]
  },
  {
   "cell_type": "code",
   "execution_count": 28,
   "id": "4c185f9a",
   "metadata": {},
   "outputs": [],
   "source": [
    "y_prediction = model.predict(x_test)"
   ]
  },
  {
   "cell_type": "code",
   "execution_count": 29,
   "id": "77c69c2f",
   "metadata": {},
   "outputs": [
    {
     "name": "stdout",
     "output_type": "stream",
     "text": [
      "[array([2]), array([8]), array([2]), array([6]), array([6]), array([7]), array([1]), array([9]), array([8]), array([5]), array([2]), array([8]), array([6]), array([6]), array([6]), array([6]), array([1]), array([0]), array([5]), array([8]), array([8]), array([7]), array([8]), array([4]), array([7]), array([5]), array([4]), array([9]), array([2]), array([9]), array([4]), array([7]), array([6]), array([8]), array([9]), array([4]), array([3]), array([1]), array([0]), array([1]), array([8]), array([6]), array([7]), array([7]), array([1]), array([0]), array([7]), array([6]), array([2]), array([1]), array([9]), array([6]), array([7]), array([9]), array([0]), array([0]), array([5]), array([1]), array([6]), array([3]), array([0]), array([2]), array([3]), array([4]), array([1]), array([9]), array([2]), array([6]), array([9]), array([1]), array([8]), array([3]), array([5]), array([1]), array([2]), array([8]), array([2]), array([2]), array([9]), array([7]), array([2]), array([3]), array([6]), array([0]), array([5]), array([3]), array([7]), array([5]), array([1]), array([2]), array([9]), array([9]), array([3]), array([1]), array([7]), array([7]), array([4]), array([8]), array([5]), array([8]), array([5]), array([5]), array([2]), array([5]), array([9]), array([0]), array([7]), array([1]), array([4]), array([7]), array([3]), array([4]), array([8]), array([9]), array([7]), array([9]), array([8]), array([2]), array([6]), array([5]), array([2]), array([5]), array([8]), array([4]), array([8]), array([7]), array([0]), array([6]), array([1]), array([5]), array([9]), array([9]), array([9]), array([5]), array([9]), array([9]), array([5]), array([7]), array([5]), array([6]), array([2]), array([8]), array([6]), array([9]), array([6]), array([1]), array([5]), array([1]), array([5]), array([9]), array([9]), array([1]), array([5]), array([3]), array([6]), array([1]), array([8]), array([9]), array([8]), array([7]), array([6]), array([7]), array([6]), array([5]), array([6]), array([0]), array([8]), array([8]), array([9]), array([8]), array([6]), array([1]), array([0]), array([4]), array([1]), array([6]), array([3]), array([8]), array([6]), array([7]), array([4]), array([5]), array([6]), array([3]), array([0]), array([3]), array([3]), array([3]), array([0]), array([7]), array([7]), array([5]), array([7]), array([8]), array([0]), array([7]), array([8]), array([9]), array([6]), array([4]), array([5]), array([0]), array([1]), array([4]), array([6]), array([4]), array([3]), array([3]), array([0]), array([9]), array([5]), array([9]), array([2]), array([1]), array([4]), array([2]), array([1]), array([6]), array([8]), array([9]), array([2]), array([4]), array([9]), array([3]), array([7]), array([6]), array([2]), array([3]), array([3]), array([1]), array([6]), array([9]), array([3]), array([6]), array([3]), array([2]), array([2]), array([0]), array([7]), array([6]), array([1]), array([1]), array([9]), array([7]), array([2]), array([7]), array([8]), array([5]), array([5]), array([7]), array([5]), array([2]), array([3]), array([7]), array([2]), array([7]), array([5]), array([5]), array([7]), array([0]), array([9]), array([1]), array([6]), array([5]), array([9]), array([7]), array([4]), array([3]), array([8]), array([0]), array([3]), array([6]), array([4]), array([6]), array([3]), array([2]), array([6]), array([8]), array([8]), array([8]), array([4]), array([6]), array([7]), array([5]), array([2]), array([4]), array([5]), array([3]), array([2]), array([4]), array([6]), array([9]), array([4]), array([5]), array([4]), array([3]), array([4]), array([6]), array([2]), array([9]), array([0]), array([1]), array([7]), array([2]), array([0]), array([9]), array([6]), array([0]), array([4]), array([2]), array([0]), array([7]), array([9]), array([8]), array([5]), array([4]), array([8]), array([2]), array([8]), array([4]), array([3]), array([7]), array([2]), array([6]), array([9]), array([1]), array([5]), array([1]), array([0]), array([8]), array([2]), array([1]), array([9]), array([5]), array([6]), array([8]), array([2]), array([7]), array([2]), array([1]), array([5]), array([1]), array([6]), array([4]), array([5]), array([0]), array([9]), array([4]), array([1]), array([1]), array([7]), array([0]), array([8]), array([9]), array([0]), array([5]), array([4]), array([3]), array([8]), array([8]), array([6]), array([5]), array([3]), array([4]), array([4]), array([4]), array([8]), array([8]), array([7]), array([0]), array([9]), array([6]), array([3]), array([5]), array([2]), array([3]), array([0]), array([8]), array([3]), array([3]), array([1]), array([3]), array([3]), array([0]), array([0]), array([4]), array([6]), array([0]), array([7]), array([7]), array([6]), array([2]), array([0]), array([4]), array([4]), array([2]), array([3]), array([7]), array([8]), array([9]), array([8]), array([6]), array([8]), array([5]), array([6]), array([2]), array([2]), array([3]), array([1]), array([7]), array([7]), array([8]), array([0]), array([3]), array([3]), array([2]), array([1]), array([5]), array([5]), array([9]), array([1]), array([3]), array([7]), array([0]), array([0]), array([7]), array([0]), array([4]), array([5]), array([9]), array([3]), array([3]), array([4]), array([3]), array([1]), array([8]), array([9]), array([8]), array([3]), array([6]), array([2]), array([1]), array([6]), array([2]), array([1]), array([7]), array([5]), array([5]), array([1]), array([9])]\n"
     ]
    }
   ],
   "source": [
    "print(list(y_test.reshape(len(y_test),1)))"
   ]
  },
  {
   "cell_type": "code",
   "execution_count": 30,
   "id": "064c053a",
   "metadata": {},
   "outputs": [
    {
     "name": "stdout",
     "output_type": "stream",
     "text": [
      "[array([2]), array([8]), array([2]), array([6]), array([6]), array([7]), array([1]), array([9]), array([8]), array([5]), array([2]), array([8]), array([6]), array([6]), array([6]), array([6]), array([1]), array([0]), array([5]), array([8]), array([8]), array([7]), array([8]), array([4]), array([7]), array([5]), array([4]), array([9]), array([2]), array([9]), array([4]), array([7]), array([6]), array([8]), array([9]), array([4]), array([3]), array([1]), array([0]), array([1]), array([8]), array([6]), array([7]), array([7]), array([1]), array([0]), array([7]), array([6]), array([2]), array([1]), array([9]), array([6]), array([7]), array([9]), array([0]), array([0]), array([5]), array([1]), array([6]), array([3]), array([0]), array([2]), array([3]), array([4]), array([1]), array([9]), array([2]), array([6]), array([9]), array([1]), array([8]), array([3]), array([5]), array([1]), array([2]), array([8]), array([2]), array([2]), array([9]), array([7]), array([2]), array([3]), array([6]), array([0]), array([5]), array([3]), array([7]), array([5]), array([1]), array([2]), array([9]), array([9]), array([3]), array([1]), array([7]), array([7]), array([4]), array([8]), array([5]), array([8]), array([5]), array([5]), array([2]), array([5]), array([9]), array([0]), array([7]), array([1]), array([4]), array([4]), array([3]), array([4]), array([8]), array([9]), array([7]), array([9]), array([8]), array([2]), array([1]), array([5]), array([2]), array([5]), array([8]), array([4]), array([1]), array([7]), array([0]), array([6]), array([1]), array([5]), array([5]), array([9]), array([9]), array([5]), array([9]), array([9]), array([5]), array([7]), array([5]), array([6]), array([2]), array([8]), array([6]), array([9]), array([6]), array([1]), array([5]), array([1]), array([5]), array([9]), array([9]), array([1]), array([5]), array([3]), array([6]), array([1]), array([8]), array([9]), array([8]), array([7]), array([6]), array([7]), array([6]), array([5]), array([6]), array([0]), array([8]), array([8]), array([9]), array([8]), array([6]), array([1]), array([0]), array([4]), array([1]), array([6]), array([3]), array([8]), array([6]), array([7]), array([4]), array([9]), array([6]), array([3]), array([0]), array([3]), array([3]), array([3]), array([0]), array([7]), array([7]), array([5]), array([7]), array([8]), array([0]), array([7]), array([1]), array([9]), array([6]), array([4]), array([5]), array([0]), array([1]), array([4]), array([6]), array([4]), array([3]), array([3]), array([0]), array([9]), array([5]), array([3]), array([2]), array([1]), array([4]), array([2]), array([1]), array([6]), array([8]), array([9]), array([2]), array([4]), array([9]), array([3]), array([7]), array([6]), array([2]), array([3]), array([3]), array([1]), array([6]), array([9]), array([3]), array([6]), array([3]), array([2]), array([2]), array([0]), array([7]), array([6]), array([1]), array([1]), array([9]), array([7]), array([2]), array([7]), array([8]), array([5]), array([5]), array([7]), array([5]), array([2]), array([3]), array([7]), array([2]), array([7]), array([5]), array([5]), array([7]), array([0]), array([9]), array([1]), array([6]), array([5]), array([9]), array([7]), array([4]), array([3]), array([8]), array([0]), array([3]), array([6]), array([4]), array([6]), array([3]), array([2]), array([6]), array([8]), array([8]), array([8]), array([4]), array([6]), array([7]), array([5]), array([2]), array([4]), array([5]), array([3]), array([2]), array([4]), array([6]), array([9]), array([4]), array([5]), array([4]), array([3]), array([4]), array([6]), array([2]), array([9]), array([0]), array([1]), array([7]), array([2]), array([0]), array([9]), array([6]), array([0]), array([4]), array([2]), array([0]), array([7]), array([9]), array([8]), array([5]), array([4]), array([8]), array([2]), array([8]), array([4]), array([3]), array([7]), array([2]), array([6]), array([9]), array([1]), array([5]), array([1]), array([0]), array([8]), array([2]), array([8]), array([9]), array([5]), array([6]), array([2]), array([2]), array([7]), array([2]), array([1]), array([5]), array([1]), array([6]), array([4]), array([5]), array([0]), array([9]), array([4]), array([1]), array([1]), array([7]), array([0]), array([8]), array([9]), array([0]), array([5]), array([4]), array([3]), array([8]), array([8]), array([6]), array([5]), array([3]), array([4]), array([4]), array([4]), array([8]), array([8]), array([7]), array([0]), array([9]), array([6]), array([3]), array([5]), array([2]), array([3]), array([0]), array([8]), array([8]), array([3]), array([1]), array([3]), array([3]), array([0]), array([0]), array([4]), array([6]), array([0]), array([7]), array([7]), array([6]), array([2]), array([0]), array([4]), array([4]), array([2]), array([3]), array([7]), array([1]), array([9]), array([8]), array([6]), array([8]), array([5]), array([6]), array([2]), array([2]), array([3]), array([1]), array([7]), array([7]), array([8]), array([0]), array([3]), array([3]), array([2]), array([1]), array([5]), array([5]), array([9]), array([1]), array([3]), array([7]), array([0]), array([0]), array([7]), array([0]), array([4]), array([5]), array([8]), array([9]), array([3]), array([4]), array([3]), array([1]), array([8]), array([9]), array([8]), array([3]), array([6]), array([2]), array([1]), array([6]), array([2]), array([1]), array([7]), array([5]), array([5]), array([1]), array([9])]\n"
     ]
    }
   ],
   "source": [
    "print(list(y_prediction.reshape(len(y_prediction),1)))"
   ]
  },
  {
   "cell_type": "code",
   "execution_count": 31,
   "id": "5f26bd69",
   "metadata": {},
   "outputs": [
    {
     "name": "stdout",
     "output_type": "stream",
     "text": [
      "[[2 2]\n",
      " [8 8]\n",
      " [2 2]\n",
      " [6 6]\n",
      " [6 6]\n",
      " [7 7]\n",
      " [1 1]\n",
      " [9 9]\n",
      " [8 8]\n",
      " [5 5]\n",
      " [2 2]\n",
      " [8 8]\n",
      " [6 6]\n",
      " [6 6]\n",
      " [6 6]\n",
      " [6 6]\n",
      " [1 1]\n",
      " [0 0]\n",
      " [5 5]\n",
      " [8 8]\n",
      " [8 8]\n",
      " [7 7]\n",
      " [8 8]\n",
      " [4 4]\n",
      " [7 7]\n",
      " [5 5]\n",
      " [4 4]\n",
      " [9 9]\n",
      " [2 2]\n",
      " [9 9]\n",
      " [4 4]\n",
      " [7 7]\n",
      " [6 6]\n",
      " [8 8]\n",
      " [9 9]\n",
      " [4 4]\n",
      " [3 3]\n",
      " [1 1]\n",
      " [0 0]\n",
      " [1 1]\n",
      " [8 8]\n",
      " [6 6]\n",
      " [7 7]\n",
      " [7 7]\n",
      " [1 1]\n",
      " [0 0]\n",
      " [7 7]\n",
      " [6 6]\n",
      " [2 2]\n",
      " [1 1]\n",
      " [9 9]\n",
      " [6 6]\n",
      " [7 7]\n",
      " [9 9]\n",
      " [0 0]\n",
      " [0 0]\n",
      " [5 5]\n",
      " [1 1]\n",
      " [6 6]\n",
      " [3 3]\n",
      " [0 0]\n",
      " [2 2]\n",
      " [3 3]\n",
      " [4 4]\n",
      " [1 1]\n",
      " [9 9]\n",
      " [2 2]\n",
      " [6 6]\n",
      " [9 9]\n",
      " [1 1]\n",
      " [8 8]\n",
      " [3 3]\n",
      " [5 5]\n",
      " [1 1]\n",
      " [2 2]\n",
      " [8 8]\n",
      " [2 2]\n",
      " [2 2]\n",
      " [9 9]\n",
      " [7 7]\n",
      " [2 2]\n",
      " [3 3]\n",
      " [6 6]\n",
      " [0 0]\n",
      " [5 5]\n",
      " [3 3]\n",
      " [7 7]\n",
      " [5 5]\n",
      " [1 1]\n",
      " [2 2]\n",
      " [9 9]\n",
      " [9 9]\n",
      " [3 3]\n",
      " [1 1]\n",
      " [7 7]\n",
      " [7 7]\n",
      " [4 4]\n",
      " [8 8]\n",
      " [5 5]\n",
      " [8 8]\n",
      " [5 5]\n",
      " [5 5]\n",
      " [2 2]\n",
      " [5 5]\n",
      " [9 9]\n",
      " [0 0]\n",
      " [7 7]\n",
      " [1 1]\n",
      " [4 4]\n",
      " [7 4]\n",
      " [3 3]\n",
      " [4 4]\n",
      " [8 8]\n",
      " [9 9]\n",
      " [7 7]\n",
      " [9 9]\n",
      " [8 8]\n",
      " [2 2]\n",
      " [6 1]\n",
      " [5 5]\n",
      " [2 2]\n",
      " [5 5]\n",
      " [8 8]\n",
      " [4 4]\n",
      " [8 1]\n",
      " [7 7]\n",
      " [0 0]\n",
      " [6 6]\n",
      " [1 1]\n",
      " [5 5]\n",
      " [9 5]\n",
      " [9 9]\n",
      " [9 9]\n",
      " [5 5]\n",
      " [9 9]\n",
      " [9 9]\n",
      " [5 5]\n",
      " [7 7]\n",
      " [5 5]\n",
      " [6 6]\n",
      " [2 2]\n",
      " [8 8]\n",
      " [6 6]\n",
      " [9 9]\n",
      " [6 6]\n",
      " [1 1]\n",
      " [5 5]\n",
      " [1 1]\n",
      " [5 5]\n",
      " [9 9]\n",
      " [9 9]\n",
      " [1 1]\n",
      " [5 5]\n",
      " [3 3]\n",
      " [6 6]\n",
      " [1 1]\n",
      " [8 8]\n",
      " [9 9]\n",
      " [8 8]\n",
      " [7 7]\n",
      " [6 6]\n",
      " [7 7]\n",
      " [6 6]\n",
      " [5 5]\n",
      " [6 6]\n",
      " [0 0]\n",
      " [8 8]\n",
      " [8 8]\n",
      " [9 9]\n",
      " [8 8]\n",
      " [6 6]\n",
      " [1 1]\n",
      " [0 0]\n",
      " [4 4]\n",
      " [1 1]\n",
      " [6 6]\n",
      " [3 3]\n",
      " [8 8]\n",
      " [6 6]\n",
      " [7 7]\n",
      " [4 4]\n",
      " [5 9]\n",
      " [6 6]\n",
      " [3 3]\n",
      " [0 0]\n",
      " [3 3]\n",
      " [3 3]\n",
      " [3 3]\n",
      " [0 0]\n",
      " [7 7]\n",
      " [7 7]\n",
      " [5 5]\n",
      " [7 7]\n",
      " [8 8]\n",
      " [0 0]\n",
      " [7 7]\n",
      " [8 1]\n",
      " [9 9]\n",
      " [6 6]\n",
      " [4 4]\n",
      " [5 5]\n",
      " [0 0]\n",
      " [1 1]\n",
      " [4 4]\n",
      " [6 6]\n",
      " [4 4]\n",
      " [3 3]\n",
      " [3 3]\n",
      " [0 0]\n",
      " [9 9]\n",
      " [5 5]\n",
      " [9 3]\n",
      " [2 2]\n",
      " [1 1]\n",
      " [4 4]\n",
      " [2 2]\n",
      " [1 1]\n",
      " [6 6]\n",
      " [8 8]\n",
      " [9 9]\n",
      " [2 2]\n",
      " [4 4]\n",
      " [9 9]\n",
      " [3 3]\n",
      " [7 7]\n",
      " [6 6]\n",
      " [2 2]\n",
      " [3 3]\n",
      " [3 3]\n",
      " [1 1]\n",
      " [6 6]\n",
      " [9 9]\n",
      " [3 3]\n",
      " [6 6]\n",
      " [3 3]\n",
      " [2 2]\n",
      " [2 2]\n",
      " [0 0]\n",
      " [7 7]\n",
      " [6 6]\n",
      " [1 1]\n",
      " [1 1]\n",
      " [9 9]\n",
      " [7 7]\n",
      " [2 2]\n",
      " [7 7]\n",
      " [8 8]\n",
      " [5 5]\n",
      " [5 5]\n",
      " [7 7]\n",
      " [5 5]\n",
      " [2 2]\n",
      " [3 3]\n",
      " [7 7]\n",
      " [2 2]\n",
      " [7 7]\n",
      " [5 5]\n",
      " [5 5]\n",
      " [7 7]\n",
      " [0 0]\n",
      " [9 9]\n",
      " [1 1]\n",
      " [6 6]\n",
      " [5 5]\n",
      " [9 9]\n",
      " [7 7]\n",
      " [4 4]\n",
      " [3 3]\n",
      " [8 8]\n",
      " [0 0]\n",
      " [3 3]\n",
      " [6 6]\n",
      " [4 4]\n",
      " [6 6]\n",
      " [3 3]\n",
      " [2 2]\n",
      " [6 6]\n",
      " [8 8]\n",
      " [8 8]\n",
      " [8 8]\n",
      " [4 4]\n",
      " [6 6]\n",
      " [7 7]\n",
      " [5 5]\n",
      " [2 2]\n",
      " [4 4]\n",
      " [5 5]\n",
      " [3 3]\n",
      " [2 2]\n",
      " [4 4]\n",
      " [6 6]\n",
      " [9 9]\n",
      " [4 4]\n",
      " [5 5]\n",
      " [4 4]\n",
      " [3 3]\n",
      " [4 4]\n",
      " [6 6]\n",
      " [2 2]\n",
      " [9 9]\n",
      " [0 0]\n",
      " [1 1]\n",
      " [7 7]\n",
      " [2 2]\n",
      " [0 0]\n",
      " [9 9]\n",
      " [6 6]\n",
      " [0 0]\n",
      " [4 4]\n",
      " [2 2]\n",
      " [0 0]\n",
      " [7 7]\n",
      " [9 9]\n",
      " [8 8]\n",
      " [5 5]\n",
      " [4 4]\n",
      " [8 8]\n",
      " [2 2]\n",
      " [8 8]\n",
      " [4 4]\n",
      " [3 3]\n",
      " [7 7]\n",
      " [2 2]\n",
      " [6 6]\n",
      " [9 9]\n",
      " [1 1]\n",
      " [5 5]\n",
      " [1 1]\n",
      " [0 0]\n",
      " [8 8]\n",
      " [2 2]\n",
      " [1 8]\n",
      " [9 9]\n",
      " [5 5]\n",
      " [6 6]\n",
      " [8 2]\n",
      " [2 2]\n",
      " [7 7]\n",
      " [2 2]\n",
      " [1 1]\n",
      " [5 5]\n",
      " [1 1]\n",
      " [6 6]\n",
      " [4 4]\n",
      " [5 5]\n",
      " [0 0]\n",
      " [9 9]\n",
      " [4 4]\n",
      " [1 1]\n",
      " [1 1]\n",
      " [7 7]\n",
      " [0 0]\n",
      " [8 8]\n",
      " [9 9]\n",
      " [0 0]\n",
      " [5 5]\n",
      " [4 4]\n",
      " [3 3]\n",
      " [8 8]\n",
      " [8 8]\n",
      " [6 6]\n",
      " [5 5]\n",
      " [3 3]\n",
      " [4 4]\n",
      " [4 4]\n",
      " [4 4]\n",
      " [8 8]\n",
      " [8 8]\n",
      " [7 7]\n",
      " [0 0]\n",
      " [9 9]\n",
      " [6 6]\n",
      " [3 3]\n",
      " [5 5]\n",
      " [2 2]\n",
      " [3 3]\n",
      " [0 0]\n",
      " [8 8]\n",
      " [3 8]\n",
      " [3 3]\n",
      " [1 1]\n",
      " [3 3]\n",
      " [3 3]\n",
      " [0 0]\n",
      " [0 0]\n",
      " [4 4]\n",
      " [6 6]\n",
      " [0 0]\n",
      " [7 7]\n",
      " [7 7]\n",
      " [6 6]\n",
      " [2 2]\n",
      " [0 0]\n",
      " [4 4]\n",
      " [4 4]\n",
      " [2 2]\n",
      " [3 3]\n",
      " [7 7]\n",
      " [8 1]\n",
      " [9 9]\n",
      " [8 8]\n",
      " [6 6]\n",
      " [8 8]\n",
      " [5 5]\n",
      " [6 6]\n",
      " [2 2]\n",
      " [2 2]\n",
      " [3 3]\n",
      " [1 1]\n",
      " [7 7]\n",
      " [7 7]\n",
      " [8 8]\n",
      " [0 0]\n",
      " [3 3]\n",
      " [3 3]\n",
      " [2 2]\n",
      " [1 1]\n",
      " [5 5]\n",
      " [5 5]\n",
      " [9 9]\n",
      " [1 1]\n",
      " [3 3]\n",
      " [7 7]\n",
      " [0 0]\n",
      " [0 0]\n",
      " [7 7]\n",
      " [0 0]\n",
      " [4 4]\n",
      " [5 5]\n",
      " [9 8]\n",
      " [3 9]\n",
      " [3 3]\n",
      " [4 4]\n",
      " [3 3]\n",
      " [1 1]\n",
      " [8 8]\n",
      " [9 9]\n",
      " [8 8]\n",
      " [3 3]\n",
      " [6 6]\n",
      " [2 2]\n",
      " [1 1]\n",
      " [6 6]\n",
      " [2 2]\n",
      " [1 1]\n",
      " [7 7]\n",
      " [5 5]\n",
      " [5 5]\n",
      " [1 1]\n",
      " [9 9]]\n"
     ]
    }
   ],
   "source": [
    "print(np.concatenate((y_test.reshape(len(y_test),1), y_prediction.reshape(len(y_prediction),1)),1))"
   ]
  },
  {
   "cell_type": "markdown",
   "id": "85ba90e5",
   "metadata": {},
   "source": [
    "# Evaluating Model - Accuracy"
   ]
  },
  {
   "cell_type": "code",
   "execution_count": 32,
   "id": "f82759cc",
   "metadata": {},
   "outputs": [],
   "source": [
    "from sklearn.metrics import accuracy_score"
   ]
  },
  {
   "cell_type": "code",
   "execution_count": 33,
   "id": "4d828f54",
   "metadata": {},
   "outputs": [
    {
     "name": "stdout",
     "output_type": "stream",
     "text": [
      "Accuracy of the Model : 97.11111111111111\n"
     ]
    }
   ],
   "source": [
    "print(f\"Accuracy of the Model : {accuracy_score(y_test, y_prediction)*100}\")"
   ]
  },
  {
   "cell_type": "markdown",
   "id": "c1dd02c9",
   "metadata": {},
   "source": [
    "# Practicals with other SVM Models & Parameters"
   ]
  },
  {
   "cell_type": "code",
   "execution_count": 34,
   "id": "37fddaa1",
   "metadata": {},
   "outputs": [],
   "source": [
    "from sklearn.svm import SVC"
   ]
  },
  {
   "cell_type": "code",
   "execution_count": 35,
   "id": "a5854e36",
   "metadata": {},
   "outputs": [],
   "source": [
    "model1 = SVC(kernel=\"linear\")\n",
    "model2 = SVC(kernel=\"rbf\")\n",
    "model3 = SVC(gamma=0.001)\n",
    "\n",
    "model1.fit(x_train, y_train)\n",
    "model2.fit(x_train, y_train)\n",
    "model3.fit(x_train, y_train)\n",
    "\n",
    "y_prediction1 = model1.predict(x_test)\n",
    "y_prediction2 = model2.predict(x_test)\n",
    "y_prediction3 = model3.predict(x_test)"
   ]
  },
  {
   "cell_type": "code",
   "execution_count": 36,
   "id": "7c627e24",
   "metadata": {},
   "outputs": [
    {
     "name": "stdout",
     "output_type": "stream",
     "text": [
      "Accuracy of Model1 : 0.9711111111111111\n",
      "Accuracy of Model2 : 0.9911111111111112\n",
      "Accuracy of Model3 : 0.9955555555555555\n"
     ]
    }
   ],
   "source": [
    "print(f\"Accuracy of Model1 : {accuracy_score(y_test, y_prediction1)}\")\n",
    "print(f\"Accuracy of Model2 : {accuracy_score(y_test, y_prediction2)}\")\n",
    "print(f\"Accuracy of Model3 : {accuracy_score(y_test, y_prediction3)}\")      \n"
   ]
  },
  {
   "cell_type": "code",
   "execution_count": null,
   "id": "b2cb2fe3",
   "metadata": {},
   "outputs": [],
   "source": []
  }
 ],
 "metadata": {
  "kernelspec": {
   "display_name": "Python 3",
   "language": "python",
   "name": "python3"
  },
  "language_info": {
   "codemirror_mode": {
    "name": "ipython",
    "version": 3
   },
   "file_extension": ".py",
   "mimetype": "text/x-python",
   "name": "python",
   "nbconvert_exporter": "python",
   "pygments_lexer": "ipython3",
   "version": "3.8.8"
  }
 },
 "nbformat": 4,
 "nbformat_minor": 5
}
